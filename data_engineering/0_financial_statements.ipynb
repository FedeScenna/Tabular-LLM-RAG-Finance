{
 "cells": [
  {
   "cell_type": "code",
   "execution_count": 1,
   "metadata": {},
   "outputs": [],
   "source": [
    "import yaml \n",
    "import requests\n",
    "import pandas as pd\n",
    "import sqlite3\n",
    "from tqdm import tqdm\n",
    "import os"
   ]
  },
  {
   "cell_type": "code",
   "execution_count": 2,
   "metadata": {},
   "outputs": [],
   "source": [
    "conn = sqlite3.connect(\"data/database.db\")"
   ]
  },
  {
   "cell_type": "code",
   "execution_count": 3,
   "metadata": {},
   "outputs": [],
   "source": [
    "tickers = pd.read_sql_query(\"SELECT Distinct ticker FROM master_ticker\", conn)[\"ticker\"].tolist()"
   ]
  },
  {
   "cell_type": "code",
   "execution_count": 4,
   "metadata": {},
   "outputs": [],
   "source": [
    "with open(\"keys.yaml\") as keys:\n",
    "    try:\n",
    "        api_keys = yaml.safe_load(keys)\n",
    "    except yaml.YAMLError as exc:\n",
    "        print(exc)"
   ]
  },
  {
   "cell_type": "code",
   "execution_count": 5,
   "metadata": {},
   "outputs": [],
   "source": [
    "def get_financials_data(tickers_list, save_dir):\n",
    "    #Get files in dir\n",
    "    file_list = os.listdir(save_dir)\n",
    "    file_list = [f.split('.')[0] for f in file_list]\n",
    "    gen = (t for t in tqdm(tickers_list) if t not in file_list)\n",
    "\n",
    "    for t in gen:\n",
    "        try:\n",
    "                financials = requests.get(\"https://financialmodelingprep.com/api/v3/income-statement/\" + t +\"?period=annual&apikey=\" + api_keys[\"fsapikey\"])\n",
    "                df_ticker = pd.DataFrame(financials.json())\n",
    "                df_ticker.to_csv(\"data/income_statements/\" + t + \".csv\", index = False)\n",
    "        except:\n",
    "            print(\"Fail for ticker ... \" + t)\n",
    "            break"
   ]
  },
  {
   "cell_type": "code",
   "execution_count": 6,
   "metadata": {},
   "outputs": [
    {
     "name": "stderr",
     "output_type": "stream",
     "text": [
      "100%|██████████| 503/503 [00:07<00:00, 66.32it/s] \n"
     ]
    }
   ],
   "source": [
    "get_financials_data(tickers, \"data/income_statements\")"
   ]
  }
 ],
 "metadata": {
  "kernelspec": {
   "display_name": "pymc",
   "language": "python",
   "name": "python3"
  },
  "language_info": {
   "codemirror_mode": {
    "name": "ipython",
    "version": 3
   },
   "file_extension": ".py",
   "mimetype": "text/x-python",
   "name": "python",
   "nbconvert_exporter": "python",
   "pygments_lexer": "ipython3",
   "version": "3.11.9"
  }
 },
 "nbformat": 4,
 "nbformat_minor": 2
}

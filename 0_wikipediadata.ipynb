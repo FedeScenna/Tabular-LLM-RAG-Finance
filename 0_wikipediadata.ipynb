{
 "cells": [
  {
   "cell_type": "code",
   "execution_count": 6,
   "metadata": {},
   "outputs": [],
   "source": [
    "import yaml \n",
    "import requests\n",
    "import pandas as pd\n",
    "import sqlite3\n",
    "from tqdm import tqdm\n",
    "from bs4 import BeautifulSoup\n",
    "from reportlab.pdfgen.canvas import Canvas\n",
    "from reportlab.lib.pagesizes import letter\n",
    "conn = sqlite3.connect(\"data/database.db\")"
   ]
  },
  {
   "cell_type": "code",
   "execution_count": 7,
   "metadata": {},
   "outputs": [],
   "source": [
    "tickers = pd.read_sql_query(\"SELECT * FROM master_ticker\", conn)[\"Security\"].drop_duplicates().tolist()\n",
    "tickers = [t.replace(\" \", \"_\") for t in tickers]"
   ]
  },
  {
   "cell_type": "code",
   "execution_count": 8,
   "metadata": {},
   "outputs": [],
   "source": [
    "def extract_text_from_wikipedia(ticker):\n",
    "    URL_BASE = \"https://en.wikipedia.org/wiki/\"\n",
    "    request = requests.get(URL_BASE + ticker)\n",
    "    soup = BeautifulSoup(request.text, \"html.parser\")\n",
    "    #Extract text from article - Cleaning task and better scraping should be performed this is just for LLM read.\n",
    "    pars = []\n",
    "    for p in soup.find_all('p'):\n",
    "        pars.append(str(p.text))\n",
    "    \n",
    "    text = \"\".join(pars)\n",
    "    canvas = Canvas(\"data/wikipedia/\" + ticker + \".pdf\")\n",
    "    width, height = letter\n",
    "    # Starting position on the page\n",
    "    x = 50\n",
    "    y = height - 50  # top of the page\n",
    "    for p in pars:\n",
    "        canvas.drawString(50, 50, text)\n",
    "        y -= 15\n",
    "        if y < 50:\n",
    "            canvas.showPage()  # End current page and start a new one\n",
    "            canvas.setFont(\"Helvetica\", 12)\n",
    "            y = height - 50\n",
    "    canvas.save()\n"
   ]
  },
  {
   "cell_type": "code",
   "execution_count": null,
   "metadata": {},
   "outputs": [],
   "source": [
    "for t in tickers:\n",
    "    extract_text_from_wikipedia(t)"
   ]
  },
  {
   "cell_type": "code",
   "execution_count": null,
   "metadata": {},
   "outputs": [],
   "source": []
  }
 ],
 "metadata": {
  "kernelspec": {
   "display_name": "pymc",
   "language": "python",
   "name": "python3"
  },
  "language_info": {
   "codemirror_mode": {
    "name": "ipython",
    "version": 3
   },
   "file_extension": ".py",
   "mimetype": "text/x-python",
   "name": "python",
   "nbconvert_exporter": "python",
   "pygments_lexer": "ipython3",
   "version": "3.11.8"
  }
 },
 "nbformat": 4,
 "nbformat_minor": 2
}

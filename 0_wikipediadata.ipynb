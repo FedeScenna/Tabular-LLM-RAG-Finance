{
 "cells": [
  {
   "cell_type": "code",
   "execution_count": 41,
   "metadata": {},
   "outputs": [],
   "source": [
    "import yaml \n",
    "import requests\n",
    "import pandas as pd\n",
    "import sqlite3\n",
    "from tqdm import tqdm\n",
    "from bs4 import BeautifulSoup\n",
    "from reportlab.pdfgen.canvas import Canvas\n",
    "conn = sqlite3.connect(\"data/database.db\")"
   ]
  },
  {
   "cell_type": "code",
   "execution_count": 42,
   "metadata": {},
   "outputs": [],
   "source": [
    "tickers = pd.read_sql_query(\"SELECT * FROM master_ticker\", conn)[\"Security\"].drop_duplicates().tolist()\n",
    "tickers = [t.replace(\" \", \"_\") for t in tickers]"
   ]
  },
  {
   "cell_type": "code",
   "execution_count": 43,
   "metadata": {},
   "outputs": [
    {
     "name": "stdout",
     "output_type": "stream",
     "text": [
      "https://en.wikipedia.org/wiki/3M\n"
     ]
    }
   ],
   "source": [
    "print(URL_BASE + tickers[0])"
   ]
  },
  {
   "cell_type": "code",
   "execution_count": 44,
   "metadata": {},
   "outputs": [
    {
     "data": {
      "text/plain": [
       "'https://en.wikipedia.org/wiki/3M'"
      ]
     },
     "execution_count": 44,
     "metadata": {},
     "output_type": "execute_result"
    }
   ],
   "source": [
    "URL_BASE + tickers[0]"
   ]
  },
  {
   "cell_type": "code",
   "execution_count": 45,
   "metadata": {},
   "outputs": [],
   "source": [
    "def extract_text_from_wikipedia(ticker):\n",
    "    URL_BASE = \"https://en.wikipedia.org/wiki/\"\n",
    "    request = requests.get(URL_BASE + ticker)\n",
    "    soup = BeautifulSoup(request.text, \"html.parser\")\n",
    "    #Extract text from article - Cleaning task and better scraping should be performed this is just for LLM read.\n",
    "    pars = []\n",
    "    for p in soup.find_all('p'):\n",
    "        pars.append(str(p.text))\n",
    "    text = \"\".join(pars)\n",
    "\n",
    "    canvas = Canvas(\"data/wikipedia/\" + ticker + \".pdf\")\n",
    "\n",
    "    canvas.drawString(100, 100, text)\n",
    "\n",
    "    canvas.save()\n"
   ]
  },
  {
   "cell_type": "code",
   "execution_count": 46,
   "metadata": {},
   "outputs": [],
   "source": [
    "for t in tickers:\n",
    "    extract_text_from_wikipedia(t)"
   ]
  },
  {
   "cell_type": "code",
   "execution_count": null,
   "metadata": {},
   "outputs": [],
   "source": []
  },
  {
   "cell_type": "code",
   "execution_count": null,
   "metadata": {},
   "outputs": [],
   "source": []
  }
 ],
 "metadata": {
  "kernelspec": {
   "display_name": "nlp",
   "language": "python",
   "name": "python3"
  },
  "language_info": {
   "codemirror_mode": {
    "name": "ipython",
    "version": 3
   },
   "file_extension": ".py",
   "mimetype": "text/x-python",
   "name": "python",
   "nbconvert_exporter": "python",
   "pygments_lexer": "ipython3",
   "version": "3.11.8"
  }
 },
 "nbformat": 4,
 "nbformat_minor": 2
}

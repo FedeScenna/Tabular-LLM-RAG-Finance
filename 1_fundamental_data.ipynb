{
 "cells": [
  {
   "cell_type": "code",
   "execution_count": 12,
   "metadata": {},
   "outputs": [],
   "source": [
    "from alpha_vantage.fundamentaldata import FundamentalData\n",
    "import json\n",
    "import pandas as pd\n",
    "import requests\n",
    "import time\n",
    "import yaml"
   ]
  },
  {
   "cell_type": "code",
   "execution_count": 13,
   "metadata": {},
   "outputs": [],
   "source": [
    "with open('key.yaml', 'r') as f:\n",
    "    data = yaml.full_load(f)\n",
    "\n",
    "\n",
    "apikey = data[\"alphavkey\"]\n"
   ]
  },
  {
   "cell_type": "code",
   "execution_count": 14,
   "metadata": {},
   "outputs": [
    {
     "name": "stdout",
     "output_type": "stream",
     "text": [
      "{'Symbol': 'SQ', 'AssetType': 'Common Stock', 'Name': 'Block Inc', 'Description': 'Square, Inc. creates tools that allow merchants to accept card payments; they also provide reports and analysis, and next day settlement. The company is headquartered in San Francisco, California.', 'CIK': '1512673', 'Exchange': 'NYSE', 'Currency': 'USD', 'Country': 'USA', 'Sector': 'TECHNOLOGY', 'Industry': 'SERVICES-PREPACKAGED SOFTWARE', 'Address': '1455 MARKET STREET, SUITE 600, SAN FRANCISCO, CA, US', 'FiscalYearEnd': 'December', 'LatestQuarter': '2024-03-31', 'MarketCapitalization': '39848509000', 'EBITDA': '515487000', 'PERatio': '107.63', 'PEGRatio': '0.867', 'BookValue': '30.74', 'DividendPerShare': 'None', 'DividendYield': 'None', 'EPS': '0.6', 'RevenuePerShareTTM': '37.37', 'ProfitMargin': '0.0168', 'OperatingMarginTTM': '0.0419', 'ReturnOnAssetsTTM': '0.0033', 'ReturnOnEquityTTM': '0.0194', 'RevenueTTM': '22882619000', 'GrossProfitTTM': '6062086000', 'DilutedEPSTTM': '0.6', 'QuarterlyEarningsGrowthYOY': '3.625', 'QuarterlyRevenueGrowthYOY': '0.194', 'AnalystTargetPrice': '89.89', 'AnalystRatingStrongBuy': '13', 'AnalystRatingBuy': '22', 'AnalystRatingHold': '10', 'AnalystRatingSell': '2', 'AnalystRatingStrongSell': '0', 'TrailingPE': '107.63', 'ForwardPE': '23.81', 'PriceToSalesRatioTTM': '2.163', 'PriceToBookRatio': '2.535', 'EVToRevenue': '2.029', 'EVToEBITDA': '56.24', 'Beta': '2.536', '52WeekHigh': '87.52', '52WeekLow': '38.85', '50DayMovingAverage': '67.74', '200DayMovingAverage': '65.12', 'SharesOutstanding': '556545000', 'DividendDate': 'None', 'ExDividendDate': 'None'}\n"
     ]
    }
   ],
   "source": [
    "#Stock overview data for SQ(Square)\n",
    "ticker = 'SQ'\n",
    "url = 'https://www.alphavantage.co/query?function=OVERVIEW&symbol='+ticker+'&apikey='+apikey\n",
    "r = requests.get(url)\n",
    "data = r.json()\n",
    "\n",
    "print(data)"
   ]
  },
  {
   "cell_type": "code",
   "execution_count": 15,
   "metadata": {},
   "outputs": [
    {
     "data": {
      "text/html": [
       "<div>\n",
       "<style scoped>\n",
       "    .dataframe tbody tr th:only-of-type {\n",
       "        vertical-align: middle;\n",
       "    }\n",
       "\n",
       "    .dataframe tbody tr th {\n",
       "        vertical-align: top;\n",
       "    }\n",
       "\n",
       "    .dataframe thead th {\n",
       "        text-align: right;\n",
       "    }\n",
       "</style>\n",
       "<table border=\"1\" class=\"dataframe\">\n",
       "  <thead>\n",
       "    <tr style=\"text-align: right;\">\n",
       "      <th></th>\n",
       "      <th>Symbol</th>\n",
       "      <th>AssetType</th>\n",
       "      <th>Name</th>\n",
       "      <th>Description</th>\n",
       "      <th>CIK</th>\n",
       "      <th>Exchange</th>\n",
       "      <th>Currency</th>\n",
       "      <th>Country</th>\n",
       "      <th>Sector</th>\n",
       "      <th>Industry</th>\n",
       "      <th>...</th>\n",
       "      <th>EVToRevenue</th>\n",
       "      <th>EVToEBITDA</th>\n",
       "      <th>Beta</th>\n",
       "      <th>52WeekHigh</th>\n",
       "      <th>52WeekLow</th>\n",
       "      <th>50DayMovingAverage</th>\n",
       "      <th>200DayMovingAverage</th>\n",
       "      <th>SharesOutstanding</th>\n",
       "      <th>DividendDate</th>\n",
       "      <th>ExDividendDate</th>\n",
       "    </tr>\n",
       "  </thead>\n",
       "  <tbody>\n",
       "    <tr>\n",
       "      <th>None</th>\n",
       "      <td>SQ</td>\n",
       "      <td>Common Stock</td>\n",
       "      <td>Block Inc</td>\n",
       "      <td>Square, Inc. creates tools that allow merchant...</td>\n",
       "      <td>1512673</td>\n",
       "      <td>NYSE</td>\n",
       "      <td>USD</td>\n",
       "      <td>USA</td>\n",
       "      <td>TECHNOLOGY</td>\n",
       "      <td>SERVICES-PREPACKAGED SOFTWARE</td>\n",
       "      <td>...</td>\n",
       "      <td>2.029</td>\n",
       "      <td>56.24</td>\n",
       "      <td>2.536</td>\n",
       "      <td>87.52</td>\n",
       "      <td>38.85</td>\n",
       "      <td>67.74</td>\n",
       "      <td>65.12</td>\n",
       "      <td>556545000</td>\n",
       "      <td>None</td>\n",
       "      <td>None</td>\n",
       "    </tr>\n",
       "  </tbody>\n",
       "</table>\n",
       "<p>1 rows × 51 columns</p>\n",
       "</div>"
      ],
      "text/plain": [
       "     Symbol     AssetType       Name  \\\n",
       "None     SQ  Common Stock  Block Inc   \n",
       "\n",
       "                                            Description      CIK Exchange  \\\n",
       "None  Square, Inc. creates tools that allow merchant...  1512673     NYSE   \n",
       "\n",
       "     Currency Country      Sector                       Industry  ...  \\\n",
       "None      USD     USA  TECHNOLOGY  SERVICES-PREPACKAGED SOFTWARE  ...   \n",
       "\n",
       "     EVToRevenue EVToEBITDA   Beta 52WeekHigh 52WeekLow 50DayMovingAverage  \\\n",
       "None       2.029      56.24  2.536      87.52     38.85              67.74   \n",
       "\n",
       "     200DayMovingAverage SharesOutstanding DividendDate ExDividendDate  \n",
       "None               65.12         556545000         None           None  \n",
       "\n",
       "[1 rows x 51 columns]"
      ]
     },
     "execution_count": 15,
     "metadata": {},
     "output_type": "execute_result"
    }
   ],
   "source": [
    "fd = FundamentalData(key = apikey, output_format='pandas')\n",
    "api_data, api_meta = fd.get_company_overview(symbol = ticker)\n",
    "api_data.head(1)"
   ]
  }
 ],
 "metadata": {
  "kernelspec": {
   "display_name": "finance",
   "language": "python",
   "name": "python3"
  },
  "language_info": {
   "codemirror_mode": {
    "name": "ipython",
    "version": 3
   },
   "file_extension": ".py",
   "mimetype": "text/x-python",
   "name": "python",
   "nbconvert_exporter": "python",
   "pygments_lexer": "ipython3",
   "version": "3.12.3"
  }
 },
 "nbformat": 4,
 "nbformat_minor": 2
}

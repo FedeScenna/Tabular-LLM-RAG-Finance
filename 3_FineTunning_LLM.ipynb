{
 "cells": [
  {
   "cell_type": "code",
   "execution_count": 1,
   "metadata": {},
   "outputs": [],
   "source": [
    "from getpass import getpass\n",
    "import os\n",
    "\n",
    "REPLICATE_API_TOKEN = getpass()"
   ]
  },
  {
   "cell_type": "code",
   "execution_count": 2,
   "metadata": {},
   "outputs": [],
   "source": [
    "from langchain_community.llms import Replicate\n",
    "llm = Replicate(\n",
    "    model=\"meta/meta-llama-3-8b-instruct\",\n",
    "    model_kwargs={\"temperature\": 0.0, \"top_p\": 1, \"max_new_tokens\":500}\n",
    ")"
   ]
  },
  {
   "cell_type": "code",
   "execution_count": 3,
   "metadata": {},
   "outputs": [],
   "source": [
    "from langchain_community.utilities import SQLDatabase\n",
    "\n",
    "db = SQLDatabase.from_uri(\"sqlite:///data/database.db\", sample_rows_in_table_info=0)\n",
    "\n",
    "def get_schema():\n",
    "    return db.get_table_info()"
   ]
  },
  {
   "cell_type": "code",
   "execution_count": 4,
   "metadata": {},
   "outputs": [
    {
     "name": "stdout",
     "output_type": "stream",
     "text": [
      "Based on the table schema below, write a SQL query that would answer the user's question; just return the SQL query and nothing else.\n",
      "\n",
      "Scheme:\n",
      "\n",
      "CREATE TABLE master_ticker (\n",
      "\t\"index\" INTEGER, \n",
      "\tticker TEXT, \n",
      "\t\"Security\" TEXT, \n",
      "\t\"GICS Sector\" TEXT, \n",
      "\t\"GICS Sub-Industry\" TEXT, \n",
      "\t\"Headquarters Location\" TEXT, \n",
      "\t\"Date added\" TEXT, \n",
      "\t\"CIK\" INTEGER, \n",
      "\t\"Founded\" TEXT\n",
      ")\n",
      "\n",
      "\n",
      "CREATE TABLE price_data (\n",
      "\tdate TIMESTAMP, \n",
      "\tticker TEXT, \n",
      "\tclose REAL, \n",
      "\thigh REAL, \n",
      "\tlow REAL, \n",
      "\topen REAL, \n",
      "\tvolume REAL, \n",
      "\tgarman_klass_vol REAL, \n",
      "\trsi REAL, \n",
      "\tbb_low REAL, \n",
      "\tbb_mid REAL, \n",
      "\tbb_high REAL, \n",
      "\tsharpe_ratio REAL, \n",
      "\tatr REAL, \n",
      "\tmacd REAL, \n",
      "\tdollar_volume REAL, \n",
      "\treturn_1m REAL, \n",
      "\treturn_2m REAL, \n",
      "\treturn_3m REAL, \n",
      "\treturn_6m REAL, \n",
      "\treturn_9m REAL, \n",
      "\treturn_12m REAL, \n",
      "\t\"Mkt-RF\" REAL, \n",
      "\t\"SMB\" REAL, \n",
      "\t\"HML\" REAL, \n",
      "\t\"RMW\" REAL, \n",
      "\t\"CMA\" REAL\n",
      ")\n",
      "\n",
      "Question: Which is the max close price for APPL ticker?\n",
      "\n",
      "SQL Query:\n"
     ]
    }
   ],
   "source": [
    "question = \"Which is the max close price for APPL ticker?\"\n",
    "prompt = f\"\"\"Based on the table schema below, write a SQL query that would answer the user's question; just return the SQL query and nothing else.\n",
    "\n",
    "Scheme:\n",
    "{get_schema()}\n",
    "\n",
    "Question: {question}\n",
    "\n",
    "SQL Query:\"\"\"\n",
    "\n",
    "print(prompt)"
   ]
  },
  {
   "cell_type": "code",
   "execution_count": 5,
   "metadata": {},
   "outputs": [
    {
     "name": "stdout",
     "output_type": "stream",
     "text": [
      "\n",
      "\n",
      "SELECT MAX(close) \n",
      "FROM price_data \n",
      "WHERE ticker = 'APPL';\n"
     ]
    }
   ],
   "source": [
    "answer = llm.invoke(prompt)\n",
    "print(answer)"
   ]
  },
  {
   "cell_type": "code",
   "execution_count": 1,
   "metadata": {},
   "outputs": [
    {
     "ename": "NameError",
     "evalue": "name 'db' is not defined",
     "output_type": "error",
     "traceback": [
      "\u001b[1;31m---------------------------------------------------------------------------\u001b[0m",
      "\u001b[1;31mNameError\u001b[0m                                 Traceback (most recent call last)",
      "Cell \u001b[1;32mIn[1], line 1\u001b[0m\n\u001b[1;32m----> 1\u001b[0m \u001b[38;5;28mprint\u001b[39m(\u001b[43mdb\u001b[49m\u001b[38;5;241m.\u001b[39mget_usable_table_names())\n\u001b[0;32m      2\u001b[0m \u001b[38;5;28mprint\u001b[39m(db\u001b[38;5;241m.\u001b[39mrun(\u001b[38;5;124m\"\u001b[39m\u001b[38;5;124mSELECT * FROM price_data limit 100;\u001b[39m\u001b[38;5;124m\"\u001b[39m))\n",
      "\u001b[1;31mNameError\u001b[0m: name 'db' is not defined"
     ]
    }
   ],
   "source": [
    "print(db.get_usable_table_names())\n",
    "print(db.run(\"SELECT * FROM price_data limit 100;\"))"
   ]
  },
  {
   "cell_type": "code",
   "execution_count": 7,
   "metadata": {},
   "outputs": [
    {
     "name": "stdout",
     "output_type": "stream",
     "text": [
      "[(None,)]\n"
     ]
    }
   ],
   "source": [
    "print(db.run(answer))"
   ]
  }
 ],
 "metadata": {
  "kernelspec": {
   "display_name": "finance",
   "language": "python",
   "name": "python3"
  },
  "language_info": {
   "codemirror_mode": {
    "name": "ipython",
    "version": 3
   },
   "file_extension": ".py",
   "mimetype": "text/x-python",
   "name": "python",
   "nbconvert_exporter": "python",
   "pygments_lexer": "ipython3",
   "version": "3.11.9"
  }
 },
 "nbformat": 4,
 "nbformat_minor": 2
}

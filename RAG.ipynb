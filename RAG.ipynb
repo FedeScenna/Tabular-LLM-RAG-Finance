{
 "cells": [
  {
   "cell_type": "code",
   "execution_count": 1,
   "metadata": {},
   "outputs": [
    {
     "name": "stderr",
     "output_type": "stream",
     "text": [
      "c:\\Users\\feder\\anaconda3\\envs\\llm\\Lib\\site-packages\\tqdm\\auto.py:21: TqdmWarning: IProgress not found. Please update jupyter and ipywidgets. See https://ipywidgets.readthedocs.io/en/stable/user_install.html\n",
      "  from .autonotebook import tqdm as notebook_tqdm\n"
     ]
    }
   ],
   "source": [
    "import gradio as gr\n",
    "from langchain_community.document_loaders import PyMuPDFLoader\n",
    "from langchain.text_splitter import RecursiveCharacterTextSplitter\n",
    "from langchain.vectorstores import Chroma\n",
    "from langchain_community.embeddings import OllamaEmbeddings\n",
    "import ollama\n",
    "import re\n"
   ]
  },
  {
   "cell_type": "code",
   "execution_count": 2,
   "metadata": {},
   "outputs": [],
   "source": [
    "def process_pdf(pdf_bytes):\n",
    "    if pdf_bytes is None:\n",
    "        return None, None, None\n",
    "\n",
    "    loader = PyMuPDFLoader(pdf_bytes)\n",
    "    data = loader.load()\n",
    "\n",
    "    text_splitter = RecursiveCharacterTextSplitter(\n",
    "        chunk_size=500, chunk_overlap=100\n",
    "    )\n",
    "    chunks = text_splitter.split_documents(data)\n",
    "\n",
    "    embeddings = OllamaEmbeddings(model=\"deepseek-r1:1.5b\")\n",
    "    vectorstore = Chroma.from_documents(\n",
    "        documents=chunks, embedding=embeddings, persist_directory=\"./chroma_db\"\n",
    "    )\n",
    "    retriever = vectorstore.as_retriever()\n",
    "\n",
    "    return text_splitter, vectorstore, retriever"
   ]
  },
  {
   "cell_type": "code",
   "execution_count": 3,
   "metadata": {},
   "outputs": [],
   "source": [
    "def combine_docs(docs):\n",
    "    return \"\\n\\n\".join(doc.page_content for doc in docs)"
   ]
  },
  {
   "cell_type": "code",
   "execution_count": 4,
   "metadata": {},
   "outputs": [],
   "source": [
    "\n",
    "def ollama_llm(question, context):\n",
    "    formatted_prompt = f\"Question: {question}\\n\\nContext: {context}\"\n",
    "\n",
    "    response = ollama.chat(\n",
    "        model=\"deepseek-r1:1,5b\",\n",
    "        messages=[{\"role\": \"user\", \"content\": formatted_prompt}],\n",
    "    )\n",
    "\n",
    "    response_content = response[\"message\"][\"content\"]\n",
    "\n",
    "    # Remove content between <think> and </think> tags to remove thinking output\n",
    "    final_answer = re.sub(r\"<think>.*?</think>\", \"\", response_content, flags=re.DOTALL).strip()\n",
    "\n",
    "    return final_answer"
   ]
  },
  {
   "cell_type": "code",
   "execution_count": 5,
   "metadata": {},
   "outputs": [],
   "source": [
    "def rag_chain(question, text_splitter, vectorstore, retriever):\n",
    "    retrieved_docs = retriever.invoke(question)\n",
    "    formatted_content = combine_docs(retrieved_docs)\n",
    "    return ollama_llm(question, formatted_content)"
   ]
  },
  {
   "cell_type": "markdown",
   "metadata": {},
   "source": [
    "### Creating Gradio interface"
   ]
  },
  {
   "cell_type": "code",
   "execution_count": 6,
   "metadata": {},
   "outputs": [
    {
     "name": "stdout",
     "output_type": "stream",
     "text": [
      "* Running on local URL:  http://127.0.0.1:7860\n",
      "\n",
      "To create a public link, set `share=True` in `launch()`.\n"
     ]
    },
    {
     "data": {
      "text/html": [
       "<div><iframe src=\"http://127.0.0.1:7860/\" width=\"100%\" height=\"500\" allow=\"autoplay; camera; microphone; clipboard-read; clipboard-write;\" frameborder=\"0\" allowfullscreen></iframe></div>"
      ],
      "text/plain": [
       "<IPython.core.display.HTML object>"
      ]
     },
     "metadata": {},
     "output_type": "display_data"
    },
    {
     "data": {
      "text/plain": []
     },
     "execution_count": 6,
     "metadata": {},
     "output_type": "execute_result"
    },
    {
     "name": "stderr",
     "output_type": "stream",
     "text": [
      "C:\\Users\\feder\\AppData\\Local\\Temp\\ipykernel_26080\\1488786244.py:13: LangChainDeprecationWarning: The class `OllamaEmbeddings` was deprecated in LangChain 0.3.1 and will be removed in 1.0.0. An updated version of the class exists in the :class:`~langchain-ollama package and should be used instead. To use it run `pip install -U :class:`~langchain-ollama` and import as `from :class:`~langchain_ollama import OllamaEmbeddings``.\n",
      "  embeddings = OllamaEmbeddings(model=\"deepseek-r1:1.5b\")\n",
      "Traceback (most recent call last):\n",
      "  File \"c:\\Users\\feder\\anaconda3\\envs\\llm\\Lib\\site-packages\\langchain_community\\vectorstores\\chroma.py\", line 83, in __init__\n",
      "    import chromadb\n",
      "ModuleNotFoundError: No module named 'chromadb'\n",
      "\n",
      "During handling of the above exception, another exception occurred:\n",
      "\n",
      "Traceback (most recent call last):\n",
      "  File \"c:\\Users\\feder\\anaconda3\\envs\\llm\\Lib\\site-packages\\gradio\\queueing.py\", line 625, in process_events\n",
      "    response = await route_utils.call_process_api(\n",
      "               ^^^^^^^^^^^^^^^^^^^^^^^^^^^^^^^^^^^\n",
      "    ...<5 lines>...\n",
      "    )\n",
      "    ^\n",
      "  File \"c:\\Users\\feder\\anaconda3\\envs\\llm\\Lib\\site-packages\\gradio\\route_utils.py\", line 322, in call_process_api\n",
      "    output = await app.get_blocks().process_api(\n",
      "             ^^^^^^^^^^^^^^^^^^^^^^^^^^^^^^^^^^^\n",
      "    ...<11 lines>...\n",
      "    )\n",
      "    ^\n",
      "  File \"c:\\Users\\feder\\anaconda3\\envs\\llm\\Lib\\site-packages\\gradio\\blocks.py\", line 2098, in process_api\n",
      "    result = await self.call_function(\n",
      "             ^^^^^^^^^^^^^^^^^^^^^^^^^\n",
      "    ...<8 lines>...\n",
      "    )\n",
      "    ^\n",
      "  File \"c:\\Users\\feder\\anaconda3\\envs\\llm\\Lib\\site-packages\\gradio\\blocks.py\", line 1645, in call_function\n",
      "    prediction = await anyio.to_thread.run_sync(  # type: ignore\n",
      "                 ^^^^^^^^^^^^^^^^^^^^^^^^^^^^^^^^^^^^^^^^^^^^^^^\n",
      "        fn, *processed_input, limiter=self.limiter\n",
      "        ^^^^^^^^^^^^^^^^^^^^^^^^^^^^^^^^^^^^^^^^^^\n",
      "    )\n",
      "    ^\n",
      "  File \"c:\\Users\\feder\\anaconda3\\envs\\llm\\Lib\\site-packages\\anyio\\to_thread.py\", line 56, in run_sync\n",
      "    return await get_async_backend().run_sync_in_worker_thread(\n",
      "           ^^^^^^^^^^^^^^^^^^^^^^^^^^^^^^^^^^^^^^^^^^^^^^^^^^^^\n",
      "        func, args, abandon_on_cancel=abandon_on_cancel, limiter=limiter\n",
      "        ^^^^^^^^^^^^^^^^^^^^^^^^^^^^^^^^^^^^^^^^^^^^^^^^^^^^^^^^^^^^^^^^\n",
      "    )\n",
      "    ^\n",
      "  File \"c:\\Users\\feder\\anaconda3\\envs\\llm\\Lib\\site-packages\\anyio\\_backends\\_asyncio.py\", line 2461, in run_sync_in_worker_thread\n",
      "    return await future\n",
      "           ^^^^^^^^^^^^\n",
      "  File \"c:\\Users\\feder\\anaconda3\\envs\\llm\\Lib\\site-packages\\anyio\\_backends\\_asyncio.py\", line 962, in run\n",
      "    result = context.run(func, *args)\n",
      "  File \"c:\\Users\\feder\\anaconda3\\envs\\llm\\Lib\\site-packages\\gradio\\utils.py\", line 883, in wrapper\n",
      "    response = f(*args, **kwargs)\n",
      "  File \"C:\\Users\\feder\\AppData\\Local\\Temp\\ipykernel_26080\\967640019.py\", line 2, in ask_question\n",
      "    text_splitter, vectorstore, retriever = process_pdf(pdf_bytes)\n",
      "                                            ~~~~~~~~~~~^^^^^^^^^^^\n",
      "  File \"C:\\Users\\feder\\AppData\\Local\\Temp\\ipykernel_26080\\1488786244.py\", line 14, in process_pdf\n",
      "    vectorstore = Chroma.from_documents(\n",
      "        documents=chunks, embedding=embeddings, persist_directory=\"./chroma_db\"\n",
      "    )\n",
      "  File \"c:\\Users\\feder\\anaconda3\\envs\\llm\\Lib\\site-packages\\langchain_community\\vectorstores\\chroma.py\", line 887, in from_documents\n",
      "    return cls.from_texts(\n",
      "           ~~~~~~~~~~~~~~^\n",
      "        texts=texts,\n",
      "        ^^^^^^^^^^^^\n",
      "    ...<8 lines>...\n",
      "        **kwargs,\n",
      "        ^^^^^^^^^\n",
      "    )\n",
      "    ^\n",
      "  File \"c:\\Users\\feder\\anaconda3\\envs\\llm\\Lib\\site-packages\\langchain_community\\vectorstores\\chroma.py\", line 817, in from_texts\n",
      "    chroma_collection = cls(\n",
      "        collection_name=collection_name,\n",
      "    ...<5 lines>...\n",
      "        **kwargs,\n",
      "    )\n",
      "  File \"c:\\Users\\feder\\anaconda3\\envs\\llm\\Lib\\site-packages\\langchain_core\\_api\\deprecation.py\", line 214, in warn_if_direct_instance\n",
      "    return wrapped(self, *args, **kwargs)\n",
      "  File \"c:\\Users\\feder\\anaconda3\\envs\\llm\\Lib\\site-packages\\langchain_community\\vectorstores\\chroma.py\", line 86, in __init__\n",
      "    raise ImportError(\n",
      "    ...<2 lines>...\n",
      "    )\n",
      "ImportError: Could not import chromadb python package. Please install it with `pip install chromadb`.\n"
     ]
    }
   ],
   "source": [
    "def ask_question(pdf_bytes, question):\n",
    "    text_splitter, vectorstore, retriever = process_pdf(pdf_bytes)\n",
    "\n",
    "    if text_splitter is None:\n",
    "        return None  # No PDF uploaded\n",
    "\n",
    "    result = rag_chain(question, text_splitter, vectorstore, retriever)\n",
    "    return {result}\n",
    "\n",
    "\n",
    "interface = gr.Interface(\n",
    "    fn=ask_question,\n",
    "    inputs=[\n",
    "        gr.File(label=\"Upload PDF (optional)\"),\n",
    "        gr.Textbox(label=\"Ask a question\"),\n",
    "    ],\n",
    "    outputs=\"text\",\n",
    "    title=\"Ask questions about your PDF\",\n",
    "    description=\"Use DeepSeek-R1 to answer your questions about the uploaded PDF document.\",\n",
    ")\n",
    "\n",
    "interface.launch()"
   ]
  }
 ],
 "metadata": {
  "kernelspec": {
   "display_name": "llm",
   "language": "python",
   "name": "python3"
  },
  "language_info": {
   "codemirror_mode": {
    "name": "ipython",
    "version": 3
   },
   "file_extension": ".py",
   "mimetype": "text/x-python",
   "name": "python",
   "nbconvert_exporter": "python",
   "pygments_lexer": "ipython3",
   "version": "3.13.1"
  }
 },
 "nbformat": 4,
 "nbformat_minor": 2
}

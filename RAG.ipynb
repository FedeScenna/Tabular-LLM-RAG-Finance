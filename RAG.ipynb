{
 "cells": [
  {
   "cell_type": "code",
   "execution_count": 20,
   "metadata": {},
   "outputs": [],
   "source": [
    "import gradio as gr\n",
    "import os\n",
    "from langchain_community.document_loaders import PyMuPDFLoader\n",
    "from langchain.text_splitter import RecursiveCharacterTextSplitter\n",
    "from langchain.vectorstores import Chroma\n",
    "from langchain_community.embeddings import OllamaEmbeddings\n",
    "import ollama\n",
    "import re"
   ]
  },
  {
   "cell_type": "code",
   "execution_count": 21,
   "metadata": {},
   "outputs": [],
   "source": [
    "def process_pdfs_from_folder(folder_path):\n",
    "    if not os.path.exists(folder_path) or not os.path.isdir(folder_path):\n",
    "        return None, None\n",
    "\n",
    "    all_chunks = []\n",
    "    \n",
    "    # Iterate over all PDF files in the folder\n",
    "    for file_name in os.listdir(folder_path):\n",
    "        if file_name.endswith(\".pdf\"):\n",
    "            pdf_path = os.path.join(folder_path, file_name)\n",
    "\n",
    "            loader = PyMuPDFLoader(pdf_path)\n",
    "            data = loader.load()\n",
    "\n",
    "            text_splitter = RecursiveCharacterTextSplitter(\n",
    "                chunk_size=500, chunk_overlap=100\n",
    "            )\n",
    "            chunks = text_splitter.split_documents(data)\n",
    "            all_chunks.extend(chunks)  # Store all chunks\n",
    "\n",
    "    if not all_chunks:\n",
    "        return None, None  # No valid PDFs found\n",
    "\n",
    "    # Create vector database with all PDFs' text\n",
    "    embeddings = OllamaEmbeddings(model=\"deepseek-r1:1.5b\")\n",
    "    vectorstore = Chroma.from_documents(\n",
    "        documents=all_chunks, embedding=embeddings, persist_directory=\"./chroma_db\"\n",
    "    )\n",
    "    retriever = vectorstore.as_retriever()\n",
    "\n",
    "    return vectorstore, retriever\n"
   ]
  },
  {
   "cell_type": "code",
   "execution_count": 22,
   "metadata": {},
   "outputs": [],
   "source": [
    "def combine_docs(docs):\n",
    "    return \"\\n\\n\".join(doc.page_content for doc in docs)"
   ]
  },
  {
   "cell_type": "code",
   "execution_count": 23,
   "metadata": {},
   "outputs": [],
   "source": [
    "def ollama_llm(question, context):\n",
    "    formatted_prompt = f\"Question: {question}\\n\\nContext: {context}\"\n",
    "\n",
    "    response = ollama.chat(\n",
    "        model=\"deepseek-r1:1.5b\",\n",
    "        messages=[{\"role\": \"user\", \"content\": formatted_prompt}],\n",
    "    )\n",
    "\n",
    "    response_content = response[\"message\"][\"content\"]\n",
    "\n",
    "    # Remove content between <think> and </think> tags\n",
    "    final_answer = re.sub(r\"<think>.*?</think>\", \"\", response_content, flags=re.DOTALL).strip()\n",
    "\n",
    "    return final_answer"
   ]
  },
  {
   "cell_type": "code",
   "execution_count": 24,
   "metadata": {},
   "outputs": [],
   "source": [
    "def rag_chain(question, retriever):\n",
    "    retrieved_docs = retriever.invoke(question)\n",
    "    formatted_content = combine_docs(retrieved_docs)\n",
    "    return ollama_llm(question, formatted_content)"
   ]
  },
  {
   "cell_type": "markdown",
   "metadata": {},
   "source": [
    "### Creating Gradio interface"
   ]
  },
  {
   "cell_type": "code",
   "execution_count": 31,
   "metadata": {},
   "outputs": [
    {
     "name": "stdout",
     "output_type": "stream",
     "text": [
      "* Running on local URL:  http://127.0.0.1:7870\n",
      "\n",
      "To create a public link, set `share=True` in `launch()`.\n"
     ]
    },
    {
     "data": {
      "text/html": [
       "<div><iframe src=\"http://127.0.0.1:7870/\" width=\"100%\" height=\"500\" allow=\"autoplay; camera; microphone; clipboard-read; clipboard-write;\" frameborder=\"0\" allowfullscreen></iframe></div>"
      ],
      "text/plain": [
       "<IPython.core.display.HTML object>"
      ]
     },
     "metadata": {},
     "output_type": "display_data"
    },
    {
     "data": {
      "text/plain": []
     },
     "execution_count": 31,
     "metadata": {},
     "output_type": "execute_result"
    },
    {
     "name": "stderr",
     "output_type": "stream",
     "text": [
      "Traceback (most recent call last):\n",
      "  File \"c:\\Users\\feder\\anaconda3\\envs\\llm\\Lib\\site-packages\\gradio\\queueing.py\", line 625, in process_events\n",
      "    response = await route_utils.call_process_api(\n",
      "               ^^^^^^^^^^^^^^^^^^^^^^^^^^^^^^^^^^^\n",
      "  File \"c:\\Users\\feder\\anaconda3\\envs\\llm\\Lib\\site-packages\\gradio\\route_utils.py\", line 322, in call_process_api\n",
      "    output = await app.get_blocks().process_api(\n",
      "             ^^^^^^^^^^^^^^^^^^^^^^^^^^^^^^^^^^^\n",
      "  File \"c:\\Users\\feder\\anaconda3\\envs\\llm\\Lib\\site-packages\\gradio\\blocks.py\", line 2098, in process_api\n",
      "    result = await self.call_function(\n",
      "             ^^^^^^^^^^^^^^^^^^^^^^^^^\n",
      "  File \"c:\\Users\\feder\\anaconda3\\envs\\llm\\Lib\\site-packages\\gradio\\blocks.py\", line 1645, in call_function\n",
      "    prediction = await anyio.to_thread.run_sync(  # type: ignore\n",
      "                 ^^^^^^^^^^^^^^^^^^^^^^^^^^^^^^^^^^^^^^^^^^^^^^^\n",
      "  File \"c:\\Users\\feder\\anaconda3\\envs\\llm\\Lib\\site-packages\\anyio\\to_thread.py\", line 56, in run_sync\n",
      "    return await get_async_backend().run_sync_in_worker_thread(\n",
      "           ^^^^^^^^^^^^^^^^^^^^^^^^^^^^^^^^^^^^^^^^^^^^^^^^^^^^\n",
      "  File \"c:\\Users\\feder\\anaconda3\\envs\\llm\\Lib\\site-packages\\anyio\\_backends\\_asyncio.py\", line 2461, in run_sync_in_worker_thread\n",
      "    return await future\n",
      "           ^^^^^^^^^^^^\n",
      "  File \"c:\\Users\\feder\\anaconda3\\envs\\llm\\Lib\\site-packages\\anyio\\_backends\\_asyncio.py\", line 962, in run\n",
      "    result = context.run(func, *args)\n",
      "             ^^^^^^^^^^^^^^^^^^^^^^^^\n",
      "  File \"c:\\Users\\feder\\anaconda3\\envs\\llm\\Lib\\site-packages\\gradio\\utils.py\", line 883, in wrapper\n",
      "    response = f(*args, **kwargs)\n",
      "               ^^^^^^^^^^^^^^^^^^\n",
      "  File \"C:\\Users\\feder\\AppData\\Local\\Temp\\ipykernel_752\\2496059578.py\", line 2, in ask_question\n",
      "    if not folder_path or not os.path.exists(folder_path):\n",
      "                              ^^^^^^^^^^^^^^^^^^^^^^^^^^^\n",
      "  File \"<frozen genericpath>\", line 19, in exists\n",
      "TypeError: stat: path should be string, bytes, os.PathLike or integer, not list\n"
     ]
    }
   ],
   "source": [
    "def ask_question(folder_path, question):\n",
    "    if not folder_path or not os.path.exists(folder_path):\n",
    "        return \"Invalid folder path. Please enter a valid directory.\"\n",
    "\n",
    "    vectorstore, retriever = process_pdfs_from_folder(folder_path)\n",
    "\n",
    "    if retriever is None:\n",
    "        return \"No valid PDFs found in the folder.\"\n",
    "\n",
    "    result = rag_chain(question, retriever)\n",
    "    return result\n",
    "\n",
    "interface = gr.Interface(\n",
    "    fn=ask_question,\n",
    "    inputs=[\n",
    "        gr.FileExplorer(root_dir=\"./data\", label=\"PDF Folder Path\"),\n",
    "        gr.Textbox(label=\"Ask a question\"),\n",
    "    ],\n",
    "    outputs=\"text\",\n",
    "    title=\"Ask questions about PDFs in a folder\",\n",
    "    description=\"Enter the path to a folder containing PDFs and ask questions about them.\",\n",
    ")\n",
    "\n",
    "interface.launch()"
   ]
  }
 ],
 "metadata": {
  "kernelspec": {
   "display_name": "llm",
   "language": "python",
   "name": "python3"
  },
  "language_info": {
   "codemirror_mode": {
    "name": "ipython",
    "version": 3
   },
   "file_extension": ".py",
   "mimetype": "text/x-python",
   "name": "python",
   "nbconvert_exporter": "python",
   "pygments_lexer": "ipython3",
   "version": "3.11.11"
  }
 },
 "nbformat": 4,
 "nbformat_minor": 2
}
